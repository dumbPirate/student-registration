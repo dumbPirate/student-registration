{
 "cells": [
  {
   "cell_type": "code",
   "execution_count": 1,
   "metadata": {
    "ExecuteTime": {
     "end_time": "2020-06-01T08:12:29.954577Z",
     "start_time": "2020-06-01T08:12:25.873625Z"
    }
   },
   "outputs": [],
   "source": [
    "import pandas as pd\n",
    "import csv"
   ]
  },
  {
   "cell_type": "code",
   "execution_count": 64,
   "metadata": {
    "ExecuteTime": {
     "end_time": "2020-05-26T05:11:15.523828Z",
     "start_time": "2020-05-26T05:11:15.515887Z"
    }
   },
   "outputs": [],
   "source": [
    "a = pd.read_csv(\"data.csv\", dtype=str)"
   ]
  },
  {
   "cell_type": "code",
   "execution_count": 65,
   "metadata": {
    "ExecuteTime": {
     "end_time": "2020-05-26T05:11:16.211922Z",
     "start_time": "2020-05-26T05:11:16.149423Z"
    },
    "scrolled": false
   },
   "outputs": [
    {
     "data": {
      "text/html": [
       "<div>\n",
       "<style scoped>\n",
       "    .dataframe tbody tr th:only-of-type {\n",
       "        vertical-align: middle;\n",
       "    }\n",
       "\n",
       "    .dataframe tbody tr th {\n",
       "        vertical-align: top;\n",
       "    }\n",
       "\n",
       "    .dataframe thead th {\n",
       "        text-align: right;\n",
       "    }\n",
       "</style>\n",
       "<table border=\"1\" class=\"dataframe\">\n",
       "  <thead>\n",
       "    <tr style=\"text-align: right;\">\n",
       "      <th></th>\n",
       "      <th>reg_num</th>\n",
       "      <th>first_name</th>\n",
       "      <th>last_name</th>\n",
       "      <th>email</th>\n",
       "      <th>phone</th>\n",
       "      <th>birthday</th>\n",
       "      <th>gender</th>\n",
       "      <th>state</th>\n",
       "      <th>city</th>\n",
       "      <th>pincode</th>\n",
       "      <th>uni_name</th>\n",
       "      <th>field</th>\n",
       "      <th>year</th>\n",
       "    </tr>\n",
       "  </thead>\n",
       "  <tbody>\n",
       "    <tr>\n",
       "      <th>0</th>\n",
       "      <td>100</td>\n",
       "      <td>shubham</td>\n",
       "      <td>nautiyal</td>\n",
       "      <td>shuubam@gmail.com</td>\n",
       "      <td>9999999999</td>\n",
       "      <td>9/29/2011</td>\n",
       "      <td>male</td>\n",
       "      <td>Goa</td>\n",
       "      <td>affad</td>\n",
       "      <td>123123</td>\n",
       "      <td>afdfds</td>\n",
       "      <td>asdf</td>\n",
       "      <td>1966</td>\n",
       "    </tr>\n",
       "    <tr>\n",
       "      <th>1</th>\n",
       "      <td>101</td>\n",
       "      <td>qwerty</td>\n",
       "      <td>qwertyu</td>\n",
       "      <td>shubhaml@yahoo.com</td>\n",
       "      <td>1234512345</td>\n",
       "      <td>11/9/1982</td>\n",
       "      <td>female</td>\n",
       "      <td>Rajashtan</td>\n",
       "      <td>dfghj</td>\n",
       "      <td>788099</td>\n",
       "      <td>fdghjkl</td>\n",
       "      <td>dgfhjk</td>\n",
       "      <td>2020</td>\n",
       "    </tr>\n",
       "    <tr>\n",
       "      <th>2</th>\n",
       "      <td>102</td>\n",
       "      <td>asdfgh</td>\n",
       "      <td>qwertyu</td>\n",
       "      <td>shubham@outlook.com</td>\n",
       "      <td>5678905678</td>\n",
       "      <td>12/8/1992</td>\n",
       "      <td>female</td>\n",
       "      <td>Sikkim</td>\n",
       "      <td>dfghj</td>\n",
       "      <td>786899</td>\n",
       "      <td>fdghjkl</td>\n",
       "      <td>dgfhjk</td>\n",
       "      <td>2020</td>\n",
       "    </tr>\n",
       "    <tr>\n",
       "      <th>3</th>\n",
       "      <td>103</td>\n",
       "      <td>zxcvbn</td>\n",
       "      <td>mnbvc</td>\n",
       "      <td>zxcvbn@zxcvbn.com</td>\n",
       "      <td>4444444444</td>\n",
       "      <td>6/11/1999</td>\n",
       "      <td>male</td>\n",
       "      <td>Bihar</td>\n",
       "      <td>qwer</td>\n",
       "      <td>333333</td>\n",
       "      <td>ujmyhn</td>\n",
       "      <td>ikmujn</td>\n",
       "      <td>1999</td>\n",
       "    </tr>\n",
       "    <tr>\n",
       "      <th>4</th>\n",
       "      <td>105</td>\n",
       "      <td>my</td>\n",
       "      <td>nautiyal</td>\n",
       "      <td>shuubam@gm.com</td>\n",
       "      <td>9999999999</td>\n",
       "      <td>5/13/2020</td>\n",
       "      <td>female</td>\n",
       "      <td>Odisha</td>\n",
       "      <td>affad</td>\n",
       "      <td>123123</td>\n",
       "      <td>afdfds</td>\n",
       "      <td>asdf</td>\n",
       "      <td>1966</td>\n",
       "    </tr>\n",
       "    <tr>\n",
       "      <th>5</th>\n",
       "      <td>106</td>\n",
       "      <td>jhon</td>\n",
       "      <td>smith</td>\n",
       "      <td>jhon@hyu.com</td>\n",
       "      <td>5678567856</td>\n",
       "      <td>5/24/2020</td>\n",
       "      <td>male</td>\n",
       "      <td>Tripura</td>\n",
       "      <td>yhntgb</td>\n",
       "      <td>789789</td>\n",
       "      <td>cvbdfgh</td>\n",
       "      <td>tgbyhn</td>\n",
       "      <td>2003</td>\n",
       "    </tr>\n",
       "    <tr>\n",
       "      <th>6</th>\n",
       "      <td>107</td>\n",
       "      <td>dsfjkllk</td>\n",
       "      <td>doe</td>\n",
       "      <td>asdfgh@sdfaf.com</td>\n",
       "      <td>5675675676</td>\n",
       "      <td>5/7/2020</td>\n",
       "      <td>female</td>\n",
       "      <td>Assam</td>\n",
       "      <td>uhuhu</td>\n",
       "      <td>789789</td>\n",
       "      <td>dfshakjh</td>\n",
       "      <td>sadjflk</td>\n",
       "      <td>2000</td>\n",
       "    </tr>\n",
       "    <tr>\n",
       "      <th>7</th>\n",
       "      <td>109</td>\n",
       "      <td>afasty</td>\n",
       "      <td>adsfsfyu</td>\n",
       "      <td>NaN</td>\n",
       "      <td>NaN</td>\n",
       "      <td>NaN</td>\n",
       "      <td>female</td>\n",
       "      <td>Bihar</td>\n",
       "      <td>NaN</td>\n",
       "      <td>NaN</td>\n",
       "      <td>NaN</td>\n",
       "      <td>NaN</td>\n",
       "      <td>NaN</td>\n",
       "    </tr>\n",
       "    <tr>\n",
       "      <th>8</th>\n",
       "      <td>110</td>\n",
       "      <td>afastyty</td>\n",
       "      <td>adsfsfyu</td>\n",
       "      <td>NaN</td>\n",
       "      <td>NaN</td>\n",
       "      <td>NaN</td>\n",
       "      <td>female</td>\n",
       "      <td>Jharkhand</td>\n",
       "      <td>NaN</td>\n",
       "      <td>NaN</td>\n",
       "      <td>NaN</td>\n",
       "      <td>NaN</td>\n",
       "      <td>NaN</td>\n",
       "    </tr>\n",
       "    <tr>\n",
       "      <th>9</th>\n",
       "      <td>111</td>\n",
       "      <td>afastyty</td>\n",
       "      <td>adsfsfyu</td>\n",
       "      <td>NaN</td>\n",
       "      <td>NaN</td>\n",
       "      <td>NaN</td>\n",
       "      <td>female</td>\n",
       "      <td>Punjab</td>\n",
       "      <td>NaN</td>\n",
       "      <td>NaN</td>\n",
       "      <td>NaN</td>\n",
       "      <td>NaN</td>\n",
       "      <td>NaN</td>\n",
       "    </tr>\n",
       "    <tr>\n",
       "      <th>10</th>\n",
       "      <td>112</td>\n",
       "      <td>afastyh</td>\n",
       "      <td>adsfsfyu</td>\n",
       "      <td>NaN</td>\n",
       "      <td>NaN</td>\n",
       "      <td>NaN</td>\n",
       "      <td>male</td>\n",
       "      <td>Tamil_Nadu</td>\n",
       "      <td>NaN</td>\n",
       "      <td>NaN</td>\n",
       "      <td>NaN</td>\n",
       "      <td>NaN</td>\n",
       "      <td>NaN</td>\n",
       "    </tr>\n",
       "  </tbody>\n",
       "</table>\n",
       "</div>"
      ],
      "text/plain": [
       "   reg_num first_name  last_name                email       phone   birthday  \\\n",
       "0      100    shubham   nautiyal    shuubam@gmail.com  9999999999  9/29/2011   \n",
       "1      101     qwerty    qwertyu   shubhaml@yahoo.com  1234512345  11/9/1982   \n",
       "2      102     asdfgh    qwertyu  shubham@outlook.com  5678905678  12/8/1992   \n",
       "3      103     zxcvbn      mnbvc    zxcvbn@zxcvbn.com  4444444444  6/11/1999   \n",
       "4      105         my   nautiyal       shuubam@gm.com  9999999999  5/13/2020   \n",
       "5      106       jhon      smith         jhon@hyu.com  5678567856  5/24/2020   \n",
       "6      107   dsfjkllk        doe     asdfgh@sdfaf.com  5675675676   5/7/2020   \n",
       "7      109     afasty   adsfsfyu                  NaN         NaN        NaN   \n",
       "8      110   afastyty   adsfsfyu                  NaN         NaN        NaN   \n",
       "9      111   afastyty   adsfsfyu                  NaN         NaN        NaN   \n",
       "10     112    afastyh   adsfsfyu                  NaN         NaN        NaN   \n",
       "\n",
       "    gender       state    city  pincode  uni_name    field  year  \n",
       "0     male         Goa   affad   123123    afdfds     asdf  1966  \n",
       "1   female   Rajashtan   dfghj   788099   fdghjkl   dgfhjk  2020  \n",
       "2   female      Sikkim   dfghj   786899   fdghjkl   dgfhjk  2020  \n",
       "3     male       Bihar    qwer   333333    ujmyhn   ikmujn  1999  \n",
       "4   female      Odisha   affad   123123    afdfds     asdf  1966  \n",
       "5     male     Tripura  yhntgb   789789   cvbdfgh   tgbyhn  2003  \n",
       "6   female       Assam   uhuhu   789789  dfshakjh  sadjflk  2000  \n",
       "7   female       Bihar     NaN      NaN       NaN      NaN   NaN  \n",
       "8   female   Jharkhand     NaN      NaN       NaN      NaN   NaN  \n",
       "9   female      Punjab     NaN      NaN       NaN      NaN   NaN  \n",
       "10    male  Tamil_Nadu     NaN      NaN       NaN      NaN   NaN  "
      ]
     },
     "execution_count": 65,
     "metadata": {},
     "output_type": "execute_result"
    }
   ],
   "source": [
    "a"
   ]
  },
  {
   "cell_type": "code",
   "execution_count": 67,
   "metadata": {
    "ExecuteTime": {
     "end_time": "2020-05-26T05:11:28.260904Z",
     "start_time": "2020-05-26T05:11:28.247939Z"
    }
   },
   "outputs": [
    {
     "name": "stderr",
     "output_type": "stream",
     "text": [
      "c:\\users\\shubham.nautiyal\\appdata\\local\\programs\\python\\python38-32\\lib\\site-packages\\pandas\\core\\indexes\\base.py:122: FutureWarning: elementwise comparison failed; returning scalar instead, but in the future will perform elementwise comparison\n",
      "  result = op(self.values, np.asarray(other))\n"
     ]
    },
    {
     "data": {
      "text/html": [
       "<div>\n",
       "<style scoped>\n",
       "    .dataframe tbody tr th:only-of-type {\n",
       "        vertical-align: middle;\n",
       "    }\n",
       "\n",
       "    .dataframe tbody tr th {\n",
       "        vertical-align: top;\n",
       "    }\n",
       "\n",
       "    .dataframe thead th {\n",
       "        text-align: right;\n",
       "    }\n",
       "</style>\n",
       "<table border=\"1\" class=\"dataframe\">\n",
       "  <thead>\n",
       "    <tr style=\"text-align: right;\">\n",
       "      <th></th>\n",
       "      <th>reg_num</th>\n",
       "      <th>first_name</th>\n",
       "      <th>last_name</th>\n",
       "      <th>email</th>\n",
       "      <th>phone</th>\n",
       "      <th>birthday</th>\n",
       "      <th>gender</th>\n",
       "      <th>state</th>\n",
       "      <th>city</th>\n",
       "      <th>pincode</th>\n",
       "      <th>uni_name</th>\n",
       "      <th>field</th>\n",
       "      <th>year</th>\n",
       "    </tr>\n",
       "  </thead>\n",
       "  <tbody>\n",
       "  </tbody>\n",
       "</table>\n",
       "</div>"
      ],
      "text/plain": [
       "Empty DataFrame\n",
       "Columns: [reg_num, first_name,  last_name,  email,  phone,  birthday,  gender,  state,  city,  pincode,  uni_name,  field,  year]\n",
       "Index: []"
      ]
     },
     "execution_count": 67,
     "metadata": {},
     "output_type": "execute_result"
    }
   ],
   "source": [
    "a[a.index == '109']"
   ]
  },
  {
   "cell_type": "code",
   "execution_count": 30,
   "metadata": {
    "ExecuteTime": {
     "end_time": "2020-05-22T05:29:32.232657Z",
     "start_time": "2020-05-22T05:29:31.732289Z"
    }
   },
   "outputs": [],
   "source": [
    "a.to_csv('out.csv')"
   ]
  },
  {
   "cell_type": "code",
   "execution_count": 41,
   "metadata": {
    "ExecuteTime": {
     "end_time": "2020-05-26T04:35:37.563995Z",
     "start_time": "2020-05-26T04:35:37.560999Z"
    }
   },
   "outputs": [],
   "source": [
    "b = list(a)"
   ]
  },
  {
   "cell_type": "code",
   "execution_count": 42,
   "metadata": {
    "ExecuteTime": {
     "end_time": "2020-05-26T04:35:43.029675Z",
     "start_time": "2020-05-26T04:35:42.991537Z"
    }
   },
   "outputs": [
    {
     "data": {
      "text/plain": [
       "[100,\n",
       " 'shubham',\n",
       " ' nautiyal',\n",
       " ' shuubam@gmail.com',\n",
       " 9999999999.0,\n",
       " '9/29/2011',\n",
       " ' male',\n",
       " ' Goa',\n",
       " ' affad',\n",
       " 123123.0,\n",
       " ' afdfds',\n",
       " ' asdf',\n",
       " 1966.0]"
      ]
     },
     "execution_count": 42,
     "metadata": {},
     "output_type": "execute_result"
    }
   ],
   "source": [
    "a[a[\"first_name\"]==\"shubham\"].values.tolist()[0]"
   ]
  },
  {
   "cell_type": "code",
   "execution_count": 41,
   "metadata": {
    "ExecuteTime": {
     "end_time": "2020-05-21T09:53:05.293134Z",
     "start_time": "2020-05-21T09:53:05.285570Z"
    }
   },
   "outputs": [],
   "source": [
    "c = a[a[\"first_name\"]==\"shubham\"].values.tolist()[0]"
   ]
  },
  {
   "cell_type": "code",
   "execution_count": 42,
   "metadata": {
    "ExecuteTime": {
     "end_time": "2020-05-21T09:53:11.693891Z",
     "start_time": "2020-05-21T09:53:11.689692Z"
    }
   },
   "outputs": [],
   "source": [
    "dictionary = dict(zip(b, c))"
   ]
  },
  {
   "cell_type": "code",
   "execution_count": 49,
   "metadata": {
    "ExecuteTime": {
     "end_time": "2020-05-21T10:03:51.669532Z",
     "start_time": "2020-05-21T10:03:51.657698Z"
    },
    "scrolled": true
   },
   "outputs": [
    {
     "data": {
      "text/plain": [
       "{'first_name': 'shubham',\n",
       " ' last_name': ' nautiyal',\n",
       " ' email': ' shuubam@gmail.com',\n",
       " ' phone': 9999999999.0,\n",
       " ' birthday': '7/13/1996',\n",
       " ' gender': ' male',\n",
       " ' state': ' Goa',\n",
       " ' city': ' affad',\n",
       " ' pincode': 123123.0,\n",
       " ' uni_name': ' afdfds',\n",
       " ' field': ' asdf',\n",
       " ' year': 1966.0}"
      ]
     },
     "execution_count": 49,
     "metadata": {},
     "output_type": "execute_result"
    }
   ],
   "source": [
    "dictionary"
   ]
  },
  {
   "cell_type": "code",
   "execution_count": 36,
   "metadata": {
    "ExecuteTime": {
     "end_time": "2020-05-22T05:36:20.874954Z",
     "start_time": "2020-05-22T05:36:20.871951Z"
    }
   },
   "outputs": [],
   "source": [
    " r = a[a[\"first_name\"]==\"shubham\"].index"
   ]
  },
  {
   "cell_type": "code",
   "execution_count": 39,
   "metadata": {
    "ExecuteTime": {
     "end_time": "2020-05-22T05:37:20.636376Z",
     "start_time": "2020-05-22T05:37:20.632467Z"
    },
    "scrolled": true
   },
   "outputs": [],
   "source": [
    "a.drop(r, inplace = True)"
   ]
  },
  {
   "cell_type": "code",
   "execution_count": 40,
   "metadata": {
    "ExecuteTime": {
     "end_time": "2020-05-22T05:37:22.195911Z",
     "start_time": "2020-05-22T05:37:22.177931Z"
    }
   },
   "outputs": [
    {
     "data": {
      "text/html": [
       "<div>\n",
       "<style scoped>\n",
       "    .dataframe tbody tr th:only-of-type {\n",
       "        vertical-align: middle;\n",
       "    }\n",
       "\n",
       "    .dataframe tbody tr th {\n",
       "        vertical-align: top;\n",
       "    }\n",
       "\n",
       "    .dataframe thead th {\n",
       "        text-align: right;\n",
       "    }\n",
       "</style>\n",
       "<table border=\"1\" class=\"dataframe\">\n",
       "  <thead>\n",
       "    <tr style=\"text-align: right;\">\n",
       "      <th></th>\n",
       "      <th>first_name</th>\n",
       "      <th>last_name</th>\n",
       "      <th>email</th>\n",
       "      <th>phone</th>\n",
       "      <th>birthday</th>\n",
       "      <th>gender</th>\n",
       "      <th>state</th>\n",
       "      <th>city</th>\n",
       "      <th>pincode</th>\n",
       "      <th>uni_name</th>\n",
       "      <th>field</th>\n",
       "      <th>year</th>\n",
       "    </tr>\n",
       "  </thead>\n",
       "  <tbody>\n",
       "    <tr>\n",
       "      <th>1</th>\n",
       "      <td>qwerty</td>\n",
       "      <td>qwertyu</td>\n",
       "      <td>shubham_nautiyal@yahoo.com</td>\n",
       "      <td>1.234512e+09</td>\n",
       "      <td>11/9/1982</td>\n",
       "      <td>female</td>\n",
       "      <td>Rajashtan</td>\n",
       "      <td>dfghj</td>\n",
       "      <td>788099.0</td>\n",
       "      <td>fdghjkl</td>\n",
       "      <td>dgfhjk</td>\n",
       "      <td>2020.0</td>\n",
       "    </tr>\n",
       "    <tr>\n",
       "      <th>2</th>\n",
       "      <td>qwerty</td>\n",
       "      <td>qwertyu</td>\n",
       "      <td>shubham_nautiyal@yahoo.com</td>\n",
       "      <td>5.678906e+09</td>\n",
       "      <td>12/8/1992</td>\n",
       "      <td>female</td>\n",
       "      <td>Sikkim</td>\n",
       "      <td>dfghj</td>\n",
       "      <td>786899.0</td>\n",
       "      <td>fdghjkl</td>\n",
       "      <td>dgfhjk</td>\n",
       "      <td>2020.0</td>\n",
       "    </tr>\n",
       "    <tr>\n",
       "      <th>3</th>\n",
       "      <td>asdfg</td>\n",
       "      <td>hjkl</td>\n",
       "      <td>psamazone7@gmail.com</td>\n",
       "      <td>1.234568e+09</td>\n",
       "      <td>12/12/2012</td>\n",
       "      <td>male</td>\n",
       "      <td>Uttarakhand</td>\n",
       "      <td>sdf  fs</td>\n",
       "      <td>456456.0</td>\n",
       "      <td>dasfhh</td>\n",
       "      <td>sdaf f</td>\n",
       "      <td>1999.0</td>\n",
       "    </tr>\n",
       "    <tr>\n",
       "      <th>4</th>\n",
       "      <td>kaka</td>\n",
       "      <td>NaN</td>\n",
       "      <td>NaN</td>\n",
       "      <td>NaN</td>\n",
       "      <td>5/5/2020</td>\n",
       "      <td>male</td>\n",
       "      <td>Assam</td>\n",
       "      <td>NaN</td>\n",
       "      <td>NaN</td>\n",
       "      <td>NaN</td>\n",
       "      <td>NaN</td>\n",
       "      <td>NaN</td>\n",
       "    </tr>\n",
       "    <tr>\n",
       "      <th>5</th>\n",
       "      <td>shubh</td>\n",
       "      <td>nautiyal</td>\n",
       "      <td>shuubam@gm.com</td>\n",
       "      <td>1.000000e+10</td>\n",
       "      <td>9/21/2011</td>\n",
       "      <td>male</td>\n",
       "      <td>Daman_and_Diu</td>\n",
       "      <td>affad</td>\n",
       "      <td>123123.0</td>\n",
       "      <td>afdfds</td>\n",
       "      <td>asdf</td>\n",
       "      <td>1966.0</td>\n",
       "    </tr>\n",
       "    <tr>\n",
       "      <th>6</th>\n",
       "      <td>ioio</td>\n",
       "      <td>NaN</td>\n",
       "      <td>NaN</td>\n",
       "      <td>NaN</td>\n",
       "      <td>NaN</td>\n",
       "      <td>male</td>\n",
       "      <td>Bihar</td>\n",
       "      <td>NaN</td>\n",
       "      <td>NaN</td>\n",
       "      <td>NaN</td>\n",
       "      <td>NaN</td>\n",
       "      <td>NaN</td>\n",
       "    </tr>\n",
       "    <tr>\n",
       "      <th>7</th>\n",
       "      <td>life</td>\n",
       "      <td>of</td>\n",
       "      <td>NaN</td>\n",
       "      <td>NaN</td>\n",
       "      <td>5/14/2020</td>\n",
       "      <td>male</td>\n",
       "      <td>Tripura</td>\n",
       "      <td>NaN</td>\n",
       "      <td>NaN</td>\n",
       "      <td>NaN</td>\n",
       "      <td>NaN</td>\n",
       "      <td>NaN</td>\n",
       "    </tr>\n",
       "  </tbody>\n",
       "</table>\n",
       "</div>"
      ],
      "text/plain": [
       "  first_name  last_name                       email         phone    birthday  \\\n",
       "1     qwerty    qwertyu  shubham_nautiyal@yahoo.com  1.234512e+09   11/9/1982   \n",
       "2     qwerty    qwertyu  shubham_nautiyal@yahoo.com  5.678906e+09   12/8/1992   \n",
       "3      asdfg       hjkl        psamazone7@gmail.com  1.234568e+09  12/12/2012   \n",
       "4       kaka        NaN                         NaN           NaN    5/5/2020   \n",
       "5      shubh   nautiyal              shuubam@gm.com  1.000000e+10   9/21/2011   \n",
       "6       ioio        NaN                         NaN           NaN         NaN   \n",
       "7       life         of                         NaN           NaN   5/14/2020   \n",
       "\n",
       "   gender          state      city   pincode  uni_name    field    year  \n",
       "1  female      Rajashtan     dfghj  788099.0   fdghjkl   dgfhjk  2020.0  \n",
       "2  female         Sikkim     dfghj  786899.0   fdghjkl   dgfhjk  2020.0  \n",
       "3    male    Uttarakhand  sdf  fs   456456.0   dasfhh   sdaf f   1999.0  \n",
       "4    male          Assam       NaN       NaN       NaN      NaN     NaN  \n",
       "5    male  Daman_and_Diu     affad  123123.0    afdfds     asdf  1966.0  \n",
       "6    male          Bihar       NaN       NaN       NaN      NaN     NaN  \n",
       "7    male        Tripura       NaN       NaN       NaN      NaN     NaN  "
      ]
     },
     "execution_count": 40,
     "metadata": {},
     "output_type": "execute_result"
    }
   ],
   "source": [
    "a"
   ]
  },
  {
   "cell_type": "code",
   "execution_count": 26,
   "metadata": {
    "ExecuteTime": {
     "end_time": "2020-05-22T05:27:02.669181Z",
     "start_time": "2020-05-22T05:27:02.662177Z"
    }
   },
   "outputs": [],
   "source": [
    "delete_row = df[df[\"Int\"]==0].index\n",
    "df = df.drop(delete_row)\n",
    "print(df)"
   ]
  },
  {
   "cell_type": "code",
   "execution_count": 43,
   "metadata": {
    "ExecuteTime": {
     "end_time": "2020-05-26T04:37:04.203258Z",
     "start_time": "2020-05-26T04:37:04.183344Z"
    },
    "scrolled": true
   },
   "outputs": [
    {
     "data": {
      "text/html": [
       "<div>\n",
       "<style scoped>\n",
       "    .dataframe tbody tr th:only-of-type {\n",
       "        vertical-align: middle;\n",
       "    }\n",
       "\n",
       "    .dataframe tbody tr th {\n",
       "        vertical-align: top;\n",
       "    }\n",
       "\n",
       "    .dataframe thead th {\n",
       "        text-align: right;\n",
       "    }\n",
       "</style>\n",
       "<table border=\"1\" class=\"dataframe\">\n",
       "  <thead>\n",
       "    <tr style=\"text-align: right;\">\n",
       "      <th></th>\n",
       "      <th>reg_num</th>\n",
       "      <th>first_name</th>\n",
       "      <th>last_name</th>\n",
       "      <th>email</th>\n",
       "      <th>phone</th>\n",
       "      <th>birthday</th>\n",
       "      <th>gender</th>\n",
       "      <th>state</th>\n",
       "      <th>city</th>\n",
       "      <th>pincode</th>\n",
       "      <th>uni_name</th>\n",
       "      <th>field</th>\n",
       "      <th>year</th>\n",
       "    </tr>\n",
       "  </thead>\n",
       "  <tbody>\n",
       "    <tr>\n",
       "      <th>0</th>\n",
       "      <td>100</td>\n",
       "      <td>shubham</td>\n",
       "      <td>nautiyal</td>\n",
       "      <td>shuubam@gmail.com</td>\n",
       "      <td>1.000000e+10</td>\n",
       "      <td>9/29/2011</td>\n",
       "      <td>male</td>\n",
       "      <td>Goa</td>\n",
       "      <td>affad</td>\n",
       "      <td>123123.0</td>\n",
       "      <td>afdfds</td>\n",
       "      <td>asdf</td>\n",
       "      <td>1966.0</td>\n",
       "    </tr>\n",
       "    <tr>\n",
       "      <th>1</th>\n",
       "      <td>101</td>\n",
       "      <td>qwerty</td>\n",
       "      <td>qwertyu</td>\n",
       "      <td>shubhaml@yahoo.com</td>\n",
       "      <td>1.234512e+09</td>\n",
       "      <td>11/9/1982</td>\n",
       "      <td>female</td>\n",
       "      <td>Rajashtan</td>\n",
       "      <td>dfghj</td>\n",
       "      <td>788099.0</td>\n",
       "      <td>fdghjkl</td>\n",
       "      <td>dgfhjk</td>\n",
       "      <td>2020.0</td>\n",
       "    </tr>\n",
       "    <tr>\n",
       "      <th>2</th>\n",
       "      <td>102</td>\n",
       "      <td>asdfgh</td>\n",
       "      <td>qwertyu</td>\n",
       "      <td>shubham@outlook.com</td>\n",
       "      <td>5.678906e+09</td>\n",
       "      <td>12/8/1992</td>\n",
       "      <td>female</td>\n",
       "      <td>Sikkim</td>\n",
       "      <td>dfghj</td>\n",
       "      <td>786899.0</td>\n",
       "      <td>fdghjkl</td>\n",
       "      <td>dgfhjk</td>\n",
       "      <td>2020.0</td>\n",
       "    </tr>\n",
       "    <tr>\n",
       "      <th>3</th>\n",
       "      <td>103</td>\n",
       "      <td>zxcvbn</td>\n",
       "      <td>mnbvc</td>\n",
       "      <td>zxcvbn@zxcvbn.com</td>\n",
       "      <td>4.444444e+09</td>\n",
       "      <td>6/11/1999</td>\n",
       "      <td>male</td>\n",
       "      <td>Bihar</td>\n",
       "      <td>qwer</td>\n",
       "      <td>333333.0</td>\n",
       "      <td>ujmyhn</td>\n",
       "      <td>ikmujn</td>\n",
       "      <td>1999.0</td>\n",
       "    </tr>\n",
       "    <tr>\n",
       "      <th>4</th>\n",
       "      <td>104</td>\n",
       "      <td>tree</td>\n",
       "      <td>okmo</td>\n",
       "      <td>tree@nature.com</td>\n",
       "      <td>4.564565e+09</td>\n",
       "      <td>5/14/2020</td>\n",
       "      <td>male</td>\n",
       "      <td>Tripura</td>\n",
       "      <td>zxcvb</td>\n",
       "      <td>567567.0</td>\n",
       "      <td>tgbrfv</td>\n",
       "      <td>wsxedc</td>\n",
       "      <td>2005.0</td>\n",
       "    </tr>\n",
       "    <tr>\n",
       "      <th>5</th>\n",
       "      <td>105</td>\n",
       "      <td>my</td>\n",
       "      <td>nautiyal</td>\n",
       "      <td>shuubam@gm.com</td>\n",
       "      <td>1.000000e+10</td>\n",
       "      <td>5/13/2020</td>\n",
       "      <td>female</td>\n",
       "      <td>Odisha</td>\n",
       "      <td>affad</td>\n",
       "      <td>123123.0</td>\n",
       "      <td>afdfds</td>\n",
       "      <td>asdf</td>\n",
       "      <td>1966.0</td>\n",
       "    </tr>\n",
       "    <tr>\n",
       "      <th>6</th>\n",
       "      <td>106</td>\n",
       "      <td>jhon</td>\n",
       "      <td>smith</td>\n",
       "      <td>jhon@hyu.com</td>\n",
       "      <td>5.678568e+09</td>\n",
       "      <td>5/24/2020</td>\n",
       "      <td>male</td>\n",
       "      <td>Tripura</td>\n",
       "      <td>yhntgb</td>\n",
       "      <td>789789.0</td>\n",
       "      <td>cvbdfgh</td>\n",
       "      <td>tgbyhn</td>\n",
       "      <td>2003.0</td>\n",
       "    </tr>\n",
       "    <tr>\n",
       "      <th>7</th>\n",
       "      <td>107</td>\n",
       "      <td>dsfjkllk</td>\n",
       "      <td>doe</td>\n",
       "      <td>asdfgh@sdfaf.com</td>\n",
       "      <td>5.675676e+09</td>\n",
       "      <td>5/7/2020</td>\n",
       "      <td>female</td>\n",
       "      <td>Assam</td>\n",
       "      <td>uhuhu</td>\n",
       "      <td>789789.0</td>\n",
       "      <td>dfshakjh</td>\n",
       "      <td>sadjflk</td>\n",
       "      <td>2000.0</td>\n",
       "    </tr>\n",
       "    <tr>\n",
       "      <th>8</th>\n",
       "      <td>108</td>\n",
       "      <td>afas</td>\n",
       "      <td>adsfsf</td>\n",
       "      <td>NaN</td>\n",
       "      <td>NaN</td>\n",
       "      <td>NaN</td>\n",
       "      <td>female</td>\n",
       "      <td>Chhattisgarh</td>\n",
       "      <td>NaN</td>\n",
       "      <td>NaN</td>\n",
       "      <td>NaN</td>\n",
       "      <td>NaN</td>\n",
       "      <td>NaN</td>\n",
       "    </tr>\n",
       "    <tr>\n",
       "      <th>9</th>\n",
       "      <td>109</td>\n",
       "      <td>afasty</td>\n",
       "      <td>adsfsfyu</td>\n",
       "      <td>NaN</td>\n",
       "      <td>NaN</td>\n",
       "      <td>NaN</td>\n",
       "      <td>female</td>\n",
       "      <td>Bihar</td>\n",
       "      <td>NaN</td>\n",
       "      <td>NaN</td>\n",
       "      <td>NaN</td>\n",
       "      <td>NaN</td>\n",
       "      <td>NaN</td>\n",
       "    </tr>\n",
       "    <tr>\n",
       "      <th>10</th>\n",
       "      <td>110</td>\n",
       "      <td>afastyty</td>\n",
       "      <td>adsfsfyu</td>\n",
       "      <td>NaN</td>\n",
       "      <td>NaN</td>\n",
       "      <td>NaN</td>\n",
       "      <td>female</td>\n",
       "      <td>Jharkhand</td>\n",
       "      <td>NaN</td>\n",
       "      <td>NaN</td>\n",
       "      <td>NaN</td>\n",
       "      <td>NaN</td>\n",
       "      <td>NaN</td>\n",
       "    </tr>\n",
       "    <tr>\n",
       "      <th>11</th>\n",
       "      <td>111</td>\n",
       "      <td>afastyty</td>\n",
       "      <td>adsfsfyu</td>\n",
       "      <td>NaN</td>\n",
       "      <td>NaN</td>\n",
       "      <td>NaN</td>\n",
       "      <td>female</td>\n",
       "      <td>Punjab</td>\n",
       "      <td>NaN</td>\n",
       "      <td>NaN</td>\n",
       "      <td>NaN</td>\n",
       "      <td>NaN</td>\n",
       "      <td>NaN</td>\n",
       "    </tr>\n",
       "  </tbody>\n",
       "</table>\n",
       "</div>"
      ],
      "text/plain": [
       "    reg_num first_name  last_name                email         phone  \\\n",
       "0       100    shubham   nautiyal    shuubam@gmail.com  1.000000e+10   \n",
       "1       101     qwerty    qwertyu   shubhaml@yahoo.com  1.234512e+09   \n",
       "2       102     asdfgh    qwertyu  shubham@outlook.com  5.678906e+09   \n",
       "3       103     zxcvbn      mnbvc    zxcvbn@zxcvbn.com  4.444444e+09   \n",
       "4       104       tree       okmo      tree@nature.com  4.564565e+09   \n",
       "5       105         my   nautiyal       shuubam@gm.com  1.000000e+10   \n",
       "6       106       jhon      smith         jhon@hyu.com  5.678568e+09   \n",
       "7       107   dsfjkllk        doe     asdfgh@sdfaf.com  5.675676e+09   \n",
       "8       108       afas     adsfsf                  NaN           NaN   \n",
       "9       109     afasty   adsfsfyu                  NaN           NaN   \n",
       "10      110   afastyty   adsfsfyu                  NaN           NaN   \n",
       "11      111   afastyty   adsfsfyu                  NaN           NaN   \n",
       "\n",
       "     birthday  gender         state    city   pincode  uni_name    field  \\\n",
       "0   9/29/2011    male           Goa   affad  123123.0    afdfds     asdf   \n",
       "1   11/9/1982  female     Rajashtan   dfghj  788099.0   fdghjkl   dgfhjk   \n",
       "2   12/8/1992  female        Sikkim   dfghj  786899.0   fdghjkl   dgfhjk   \n",
       "3   6/11/1999    male         Bihar    qwer  333333.0    ujmyhn   ikmujn   \n",
       "4   5/14/2020    male       Tripura   zxcvb  567567.0    tgbrfv   wsxedc   \n",
       "5   5/13/2020  female        Odisha   affad  123123.0    afdfds     asdf   \n",
       "6   5/24/2020    male       Tripura  yhntgb  789789.0   cvbdfgh   tgbyhn   \n",
       "7    5/7/2020  female         Assam   uhuhu  789789.0  dfshakjh  sadjflk   \n",
       "8         NaN  female  Chhattisgarh     NaN       NaN       NaN      NaN   \n",
       "9         NaN  female         Bihar     NaN       NaN       NaN      NaN   \n",
       "10        NaN  female     Jharkhand     NaN       NaN       NaN      NaN   \n",
       "11        NaN  female        Punjab     NaN       NaN       NaN      NaN   \n",
       "\n",
       "      year  \n",
       "0   1966.0  \n",
       "1   2020.0  \n",
       "2   2020.0  \n",
       "3   1999.0  \n",
       "4   2005.0  \n",
       "5   1966.0  \n",
       "6   2003.0  \n",
       "7   2000.0  \n",
       "8      NaN  \n",
       "9      NaN  \n",
       "10     NaN  \n",
       "11     NaN  "
      ]
     },
     "execution_count": 43,
     "metadata": {},
     "output_type": "execute_result"
    }
   ],
   "source": [
    "a"
   ]
  },
  {
   "cell_type": "code",
   "execution_count": 44,
   "metadata": {
    "ExecuteTime": {
     "end_time": "2020-05-26T04:37:23.435013Z",
     "start_time": "2020-05-26T04:37:23.429992Z"
    }
   },
   "outputs": [
    {
     "data": {
      "text/plain": [
       "['reg_num',\n",
       " 'first_name',\n",
       " ' last_name',\n",
       " ' email',\n",
       " ' phone',\n",
       " ' birthday',\n",
       " ' gender',\n",
       " ' state',\n",
       " ' city',\n",
       " ' pincode',\n",
       " ' uni_name',\n",
       " ' field',\n",
       " ' year']"
      ]
     },
     "execution_count": 44,
     "metadata": {},
     "output_type": "execute_result"
    }
   ],
   "source": [
    "list(a)"
   ]
  },
  {
   "cell_type": "code",
   "execution_count": 46,
   "metadata": {
    "ExecuteTime": {
     "end_time": "2020-05-26T04:37:46.945176Z",
     "start_time": "2020-05-26T04:37:46.939191Z"
    },
    "scrolled": true
   },
   "outputs": [
    {
     "data": {
      "text/plain": [
       "[108,\n",
       " 'afas',\n",
       " 'adsfsf',\n",
       " nan,\n",
       " nan,\n",
       " nan,\n",
       " 'female',\n",
       " 'Chhattisgarh',\n",
       " nan,\n",
       " nan,\n",
       " nan,\n",
       " nan,\n",
       " nan]"
      ]
     },
     "execution_count": 46,
     "metadata": {},
     "output_type": "execute_result"
    }
   ],
   "source": [
    "a[a['reg_num']==108].values.tolist()[0]"
   ]
  },
  {
   "cell_type": "code",
   "execution_count": 54,
   "metadata": {
    "ExecuteTime": {
     "end_time": "2020-05-26T04:48:33.908853Z",
     "start_time": "2020-05-26T04:48:33.902870Z"
    }
   },
   "outputs": [],
   "source": [
    "b = list(a)\n",
    "c = a[a['reg_num']==102].values.tolist()[0]\n",
    "d = dict(zip(b, c))"
   ]
  },
  {
   "cell_type": "code",
   "execution_count": 55,
   "metadata": {
    "ExecuteTime": {
     "end_time": "2020-05-26T04:48:34.566745Z",
     "start_time": "2020-05-26T04:48:34.559764Z"
    },
    "scrolled": true
   },
   "outputs": [
    {
     "data": {
      "text/plain": [
       "{'reg_num': 102,\n",
       " 'first_name': 'asdfgh',\n",
       " ' last_name': 'qwertyu',\n",
       " ' email': 'shubham@outlook.com',\n",
       " ' phone': 5678905678.0,\n",
       " ' birthday': '12/8/1992',\n",
       " ' gender': 'female',\n",
       " ' state': 'Sikkim',\n",
       " ' city': 'dfghj',\n",
       " ' pincode': 786899.0,\n",
       " ' uni_name': 'fdghjkl',\n",
       " ' field': 'dgfhjk',\n",
       " ' year': 2020.0}"
      ]
     },
     "execution_count": 55,
     "metadata": {},
     "output_type": "execute_result"
    }
   ],
   "source": [
    "d"
   ]
  },
  {
   "cell_type": "code",
   "execution_count": 56,
   "metadata": {
    "ExecuteTime": {
     "end_time": "2020-05-26T04:48:43.413019Z",
     "start_time": "2020-05-26T04:48:43.408033Z"
    }
   },
   "outputs": [],
   "source": [
    "r = a[a['reg_num']== 102].index"
   ]
  },
  {
   "cell_type": "code",
   "execution_count": 57,
   "metadata": {
    "ExecuteTime": {
     "end_time": "2020-05-26T04:48:44.127745Z",
     "start_time": "2020-05-26T04:48:44.121732Z"
    }
   },
   "outputs": [
    {
     "data": {
      "text/plain": [
       "Int64Index([2], dtype='int64')"
      ]
     },
     "execution_count": 57,
     "metadata": {},
     "output_type": "execute_result"
    }
   ],
   "source": [
    "r"
   ]
  },
  {
   "cell_type": "code",
   "execution_count": 53,
   "metadata": {
    "ExecuteTime": {
     "end_time": "2020-05-26T04:45:14.663454Z",
     "start_time": "2020-05-26T04:45:14.553217Z"
    },
    "scrolled": true
   },
   "outputs": [
    {
     "data": {
      "text/html": [
       "<div>\n",
       "<style scoped>\n",
       "    .dataframe tbody tr th:only-of-type {\n",
       "        vertical-align: middle;\n",
       "    }\n",
       "\n",
       "    .dataframe tbody tr th {\n",
       "        vertical-align: top;\n",
       "    }\n",
       "\n",
       "    .dataframe thead th {\n",
       "        text-align: right;\n",
       "    }\n",
       "</style>\n",
       "<table border=\"1\" class=\"dataframe\">\n",
       "  <thead>\n",
       "    <tr style=\"text-align: right;\">\n",
       "      <th></th>\n",
       "      <th>reg_num</th>\n",
       "      <th>first_name</th>\n",
       "      <th>last_name</th>\n",
       "      <th>email</th>\n",
       "      <th>phone</th>\n",
       "      <th>birthday</th>\n",
       "      <th>gender</th>\n",
       "      <th>state</th>\n",
       "      <th>city</th>\n",
       "      <th>pincode</th>\n",
       "      <th>uni_name</th>\n",
       "      <th>field</th>\n",
       "      <th>year</th>\n",
       "    </tr>\n",
       "  </thead>\n",
       "  <tbody>\n",
       "    <tr>\n",
       "      <th>0</th>\n",
       "      <td>100</td>\n",
       "      <td>shubham</td>\n",
       "      <td>nautiyal</td>\n",
       "      <td>shuubam@gmail.com</td>\n",
       "      <td>1.000000e+10</td>\n",
       "      <td>9/29/2011</td>\n",
       "      <td>male</td>\n",
       "      <td>Goa</td>\n",
       "      <td>affad</td>\n",
       "      <td>123123.0</td>\n",
       "      <td>afdfds</td>\n",
       "      <td>asdf</td>\n",
       "      <td>1966.0</td>\n",
       "    </tr>\n",
       "    <tr>\n",
       "      <th>1</th>\n",
       "      <td>101</td>\n",
       "      <td>qwerty</td>\n",
       "      <td>qwertyu</td>\n",
       "      <td>shubhaml@yahoo.com</td>\n",
       "      <td>1.234512e+09</td>\n",
       "      <td>11/9/1982</td>\n",
       "      <td>female</td>\n",
       "      <td>Rajashtan</td>\n",
       "      <td>dfghj</td>\n",
       "      <td>788099.0</td>\n",
       "      <td>fdghjkl</td>\n",
       "      <td>dgfhjk</td>\n",
       "      <td>2020.0</td>\n",
       "    </tr>\n",
       "    <tr>\n",
       "      <th>2</th>\n",
       "      <td>102</td>\n",
       "      <td>asdfgh</td>\n",
       "      <td>qwertyu</td>\n",
       "      <td>shubham@outlook.com</td>\n",
       "      <td>5.678906e+09</td>\n",
       "      <td>12/8/1992</td>\n",
       "      <td>female</td>\n",
       "      <td>Sikkim</td>\n",
       "      <td>dfghj</td>\n",
       "      <td>786899.0</td>\n",
       "      <td>fdghjkl</td>\n",
       "      <td>dgfhjk</td>\n",
       "      <td>2020.0</td>\n",
       "    </tr>\n",
       "    <tr>\n",
       "      <th>3</th>\n",
       "      <td>103</td>\n",
       "      <td>zxcvbn</td>\n",
       "      <td>mnbvc</td>\n",
       "      <td>zxcvbn@zxcvbn.com</td>\n",
       "      <td>4.444444e+09</td>\n",
       "      <td>6/11/1999</td>\n",
       "      <td>male</td>\n",
       "      <td>Bihar</td>\n",
       "      <td>qwer</td>\n",
       "      <td>333333.0</td>\n",
       "      <td>ujmyhn</td>\n",
       "      <td>ikmujn</td>\n",
       "      <td>1999.0</td>\n",
       "    </tr>\n",
       "    <tr>\n",
       "      <th>4</th>\n",
       "      <td>104</td>\n",
       "      <td>tree</td>\n",
       "      <td>okmo</td>\n",
       "      <td>tree@nature.com</td>\n",
       "      <td>4.564565e+09</td>\n",
       "      <td>5/14/2020</td>\n",
       "      <td>male</td>\n",
       "      <td>Tripura</td>\n",
       "      <td>zxcvb</td>\n",
       "      <td>567567.0</td>\n",
       "      <td>tgbrfv</td>\n",
       "      <td>wsxedc</td>\n",
       "      <td>2005.0</td>\n",
       "    </tr>\n",
       "    <tr>\n",
       "      <th>5</th>\n",
       "      <td>105</td>\n",
       "      <td>my</td>\n",
       "      <td>nautiyal</td>\n",
       "      <td>shuubam@gm.com</td>\n",
       "      <td>1.000000e+10</td>\n",
       "      <td>5/13/2020</td>\n",
       "      <td>female</td>\n",
       "      <td>Odisha</td>\n",
       "      <td>affad</td>\n",
       "      <td>123123.0</td>\n",
       "      <td>afdfds</td>\n",
       "      <td>asdf</td>\n",
       "      <td>1966.0</td>\n",
       "    </tr>\n",
       "    <tr>\n",
       "      <th>6</th>\n",
       "      <td>106</td>\n",
       "      <td>jhon</td>\n",
       "      <td>smith</td>\n",
       "      <td>jhon@hyu.com</td>\n",
       "      <td>5.678568e+09</td>\n",
       "      <td>5/24/2020</td>\n",
       "      <td>male</td>\n",
       "      <td>Tripura</td>\n",
       "      <td>yhntgb</td>\n",
       "      <td>789789.0</td>\n",
       "      <td>cvbdfgh</td>\n",
       "      <td>tgbyhn</td>\n",
       "      <td>2003.0</td>\n",
       "    </tr>\n",
       "    <tr>\n",
       "      <th>7</th>\n",
       "      <td>107</td>\n",
       "      <td>dsfjkllk</td>\n",
       "      <td>doe</td>\n",
       "      <td>asdfgh@sdfaf.com</td>\n",
       "      <td>5.675676e+09</td>\n",
       "      <td>5/7/2020</td>\n",
       "      <td>female</td>\n",
       "      <td>Assam</td>\n",
       "      <td>uhuhu</td>\n",
       "      <td>789789.0</td>\n",
       "      <td>dfshakjh</td>\n",
       "      <td>sadjflk</td>\n",
       "      <td>2000.0</td>\n",
       "    </tr>\n",
       "    <tr>\n",
       "      <th>9</th>\n",
       "      <td>109</td>\n",
       "      <td>afasty</td>\n",
       "      <td>adsfsfyu</td>\n",
       "      <td>NaN</td>\n",
       "      <td>NaN</td>\n",
       "      <td>NaN</td>\n",
       "      <td>female</td>\n",
       "      <td>Bihar</td>\n",
       "      <td>NaN</td>\n",
       "      <td>NaN</td>\n",
       "      <td>NaN</td>\n",
       "      <td>NaN</td>\n",
       "      <td>NaN</td>\n",
       "    </tr>\n",
       "    <tr>\n",
       "      <th>10</th>\n",
       "      <td>110</td>\n",
       "      <td>afastyty</td>\n",
       "      <td>adsfsfyu</td>\n",
       "      <td>NaN</td>\n",
       "      <td>NaN</td>\n",
       "      <td>NaN</td>\n",
       "      <td>female</td>\n",
       "      <td>Jharkhand</td>\n",
       "      <td>NaN</td>\n",
       "      <td>NaN</td>\n",
       "      <td>NaN</td>\n",
       "      <td>NaN</td>\n",
       "      <td>NaN</td>\n",
       "    </tr>\n",
       "    <tr>\n",
       "      <th>11</th>\n",
       "      <td>111</td>\n",
       "      <td>afastyty</td>\n",
       "      <td>adsfsfyu</td>\n",
       "      <td>NaN</td>\n",
       "      <td>NaN</td>\n",
       "      <td>NaN</td>\n",
       "      <td>female</td>\n",
       "      <td>Punjab</td>\n",
       "      <td>NaN</td>\n",
       "      <td>NaN</td>\n",
       "      <td>NaN</td>\n",
       "      <td>NaN</td>\n",
       "      <td>NaN</td>\n",
       "    </tr>\n",
       "  </tbody>\n",
       "</table>\n",
       "</div>"
      ],
      "text/plain": [
       "    reg_num first_name  last_name                email         phone  \\\n",
       "0       100    shubham   nautiyal    shuubam@gmail.com  1.000000e+10   \n",
       "1       101     qwerty    qwertyu   shubhaml@yahoo.com  1.234512e+09   \n",
       "2       102     asdfgh    qwertyu  shubham@outlook.com  5.678906e+09   \n",
       "3       103     zxcvbn      mnbvc    zxcvbn@zxcvbn.com  4.444444e+09   \n",
       "4       104       tree       okmo      tree@nature.com  4.564565e+09   \n",
       "5       105         my   nautiyal       shuubam@gm.com  1.000000e+10   \n",
       "6       106       jhon      smith         jhon@hyu.com  5.678568e+09   \n",
       "7       107   dsfjkllk        doe     asdfgh@sdfaf.com  5.675676e+09   \n",
       "9       109     afasty   adsfsfyu                  NaN           NaN   \n",
       "10      110   afastyty   adsfsfyu                  NaN           NaN   \n",
       "11      111   afastyty   adsfsfyu                  NaN           NaN   \n",
       "\n",
       "     birthday  gender      state    city   pincode  uni_name    field    year  \n",
       "0   9/29/2011    male        Goa   affad  123123.0    afdfds     asdf  1966.0  \n",
       "1   11/9/1982  female  Rajashtan   dfghj  788099.0   fdghjkl   dgfhjk  2020.0  \n",
       "2   12/8/1992  female     Sikkim   dfghj  786899.0   fdghjkl   dgfhjk  2020.0  \n",
       "3   6/11/1999    male      Bihar    qwer  333333.0    ujmyhn   ikmujn  1999.0  \n",
       "4   5/14/2020    male    Tripura   zxcvb  567567.0    tgbrfv   wsxedc  2005.0  \n",
       "5   5/13/2020  female     Odisha   affad  123123.0    afdfds     asdf  1966.0  \n",
       "6   5/24/2020    male    Tripura  yhntgb  789789.0   cvbdfgh   tgbyhn  2003.0  \n",
       "7    5/7/2020  female      Assam   uhuhu  789789.0  dfshakjh  sadjflk  2000.0  \n",
       "9         NaN  female      Bihar     NaN       NaN       NaN      NaN     NaN  \n",
       "10        NaN  female  Jharkhand     NaN       NaN       NaN      NaN     NaN  \n",
       "11        NaN  female     Punjab     NaN       NaN       NaN      NaN     NaN  "
      ]
     },
     "execution_count": 53,
     "metadata": {},
     "output_type": "execute_result"
    }
   ],
   "source": [
    "a.drop(r)"
   ]
  },
  {
   "cell_type": "code",
   "execution_count": 86,
   "metadata": {
    "ExecuteTime": {
     "end_time": "2020-05-26T06:57:00.844492Z",
     "start_time": "2020-05-26T06:57:00.812574Z"
    }
   },
   "outputs": [
    {
     "data": {
      "text/html": [
       "<div>\n",
       "<style scoped>\n",
       "    .dataframe tbody tr th:only-of-type {\n",
       "        vertical-align: middle;\n",
       "    }\n",
       "\n",
       "    .dataframe tbody tr th {\n",
       "        vertical-align: top;\n",
       "    }\n",
       "\n",
       "    .dataframe thead th {\n",
       "        text-align: right;\n",
       "    }\n",
       "</style>\n",
       "<table border=\"1\" class=\"dataframe\">\n",
       "  <thead>\n",
       "    <tr style=\"text-align: right;\">\n",
       "      <th></th>\n",
       "      <th>reg_num</th>\n",
       "      <th>first_name</th>\n",
       "      <th>last_name</th>\n",
       "      <th>email</th>\n",
       "      <th>phone</th>\n",
       "      <th>birthday</th>\n",
       "      <th>gender</th>\n",
       "      <th>state</th>\n",
       "      <th>city</th>\n",
       "      <th>pincode</th>\n",
       "      <th>uni_name</th>\n",
       "      <th>field</th>\n",
       "      <th>year</th>\n",
       "    </tr>\n",
       "  </thead>\n",
       "  <tbody>\n",
       "    <tr>\n",
       "      <th>1</th>\n",
       "      <td>101</td>\n",
       "      <td>qwerty</td>\n",
       "      <td>qwertyu</td>\n",
       "      <td>shubhaml@yahoo.com</td>\n",
       "      <td>1234512345</td>\n",
       "      <td>11/9/1982</td>\n",
       "      <td>female</td>\n",
       "      <td>Rajashtan</td>\n",
       "      <td>dfghj</td>\n",
       "      <td>788099</td>\n",
       "      <td>fdghjkl</td>\n",
       "      <td>dgfhjk</td>\n",
       "      <td>2020</td>\n",
       "    </tr>\n",
       "  </tbody>\n",
       "</table>\n",
       "</div>"
      ],
      "text/plain": [
       "  reg_num first_name  last_name               email       phone   birthday  \\\n",
       "1     101     qwerty    qwertyu  shubhaml@yahoo.com  1234512345  11/9/1982   \n",
       "\n",
       "   gender      state   city  pincode  uni_name   field  year  \n",
       "1  female  Rajashtan  dfghj   788099   fdghjkl  dgfhjk  2020  "
      ]
     },
     "execution_count": 86,
     "metadata": {},
     "output_type": "execute_result"
    }
   ],
   "source": [
    "a[a['reg_num'] == '101']"
   ]
  },
  {
   "cell_type": "code",
   "execution_count": 150,
   "metadata": {
    "ExecuteTime": {
     "end_time": "2020-05-26T10:17:56.202532Z",
     "start_time": "2020-05-26T10:17:56.194523Z"
    }
   },
   "outputs": [],
   "source": [
    "a = pd.read_csv(\"data.csv\", index_col=0)"
   ]
  },
  {
   "cell_type": "code",
   "execution_count": 152,
   "metadata": {
    "ExecuteTime": {
     "end_time": "2020-05-26T10:18:03.226238Z",
     "start_time": "2020-05-26T10:18:03.212277Z"
    }
   },
   "outputs": [
    {
     "data": {
      "text/html": [
       "<div>\n",
       "<style scoped>\n",
       "    .dataframe tbody tr th:only-of-type {\n",
       "        vertical-align: middle;\n",
       "    }\n",
       "\n",
       "    .dataframe tbody tr th {\n",
       "        vertical-align: top;\n",
       "    }\n",
       "\n",
       "    .dataframe thead th {\n",
       "        text-align: right;\n",
       "    }\n",
       "</style>\n",
       "<table border=\"1\" class=\"dataframe\">\n",
       "  <thead>\n",
       "    <tr style=\"text-align: right;\">\n",
       "      <th></th>\n",
       "      <th>first_name</th>\n",
       "      <th>last_name</th>\n",
       "      <th>email</th>\n",
       "      <th>phone</th>\n",
       "      <th>birthday</th>\n",
       "      <th>gender</th>\n",
       "      <th>state</th>\n",
       "      <th>city</th>\n",
       "      <th>pincode</th>\n",
       "      <th>uni_name</th>\n",
       "      <th>field</th>\n",
       "      <th>year</th>\n",
       "    </tr>\n",
       "    <tr>\n",
       "      <th>reg_num</th>\n",
       "      <th></th>\n",
       "      <th></th>\n",
       "      <th></th>\n",
       "      <th></th>\n",
       "      <th></th>\n",
       "      <th></th>\n",
       "      <th></th>\n",
       "      <th></th>\n",
       "      <th></th>\n",
       "      <th></th>\n",
       "      <th></th>\n",
       "      <th></th>\n",
       "    </tr>\n",
       "  </thead>\n",
       "  <tbody>\n",
       "    <tr>\n",
       "      <th>100</th>\n",
       "      <td>shubham</td>\n",
       "      <td>nautiyal</td>\n",
       "      <td>shuubam@gmail.com</td>\n",
       "      <td>9999999999</td>\n",
       "      <td>9/29/2011</td>\n",
       "      <td>male</td>\n",
       "      <td>Goa</td>\n",
       "      <td>affad</td>\n",
       "      <td>123123</td>\n",
       "      <td>afdfds</td>\n",
       "      <td>asdf</td>\n",
       "      <td>1966</td>\n",
       "    </tr>\n",
       "    <tr>\n",
       "      <th>101</th>\n",
       "      <td>qwerty</td>\n",
       "      <td>qwertyu</td>\n",
       "      <td>shubhaml@yahoo.com</td>\n",
       "      <td>1234512345</td>\n",
       "      <td>11/9/1982</td>\n",
       "      <td>female</td>\n",
       "      <td>Rajashtan</td>\n",
       "      <td>dfghj</td>\n",
       "      <td>788099</td>\n",
       "      <td>fdghjkl</td>\n",
       "      <td>dgfhjk</td>\n",
       "      <td>2020</td>\n",
       "    </tr>\n",
       "    <tr>\n",
       "      <th>102</th>\n",
       "      <td>bbbbbbbb</td>\n",
       "      <td>qwertyu</td>\n",
       "      <td>shubham@outlok.com</td>\n",
       "      <td>2222222222</td>\n",
       "      <td>5/6/2020</td>\n",
       "      <td>female</td>\n",
       "      <td>Tripura</td>\n",
       "      <td>dfghj</td>\n",
       "      <td>786899</td>\n",
       "      <td>fdghjkl</td>\n",
       "      <td>dgfhjk</td>\n",
       "      <td>2020</td>\n",
       "    </tr>\n",
       "    <tr>\n",
       "      <th>103</th>\n",
       "      <td>zxcvbn</td>\n",
       "      <td>mnbvc</td>\n",
       "      <td>zxcvbn@zxcvbn.com</td>\n",
       "      <td>4444444444</td>\n",
       "      <td>6/11/1999</td>\n",
       "      <td>male</td>\n",
       "      <td>Bihar</td>\n",
       "      <td>qwer</td>\n",
       "      <td>333333</td>\n",
       "      <td>ujmyhn</td>\n",
       "      <td>ikmujn</td>\n",
       "      <td>1999</td>\n",
       "    </tr>\n",
       "    <tr>\n",
       "      <th>105</th>\n",
       "      <td>my</td>\n",
       "      <td>nautiyal</td>\n",
       "      <td>shuubam@gm.com</td>\n",
       "      <td>9999999999</td>\n",
       "      <td>5/13/2020</td>\n",
       "      <td>female</td>\n",
       "      <td>Odisha</td>\n",
       "      <td>affad</td>\n",
       "      <td>123123</td>\n",
       "      <td>afdfds</td>\n",
       "      <td>asdf</td>\n",
       "      <td>1966</td>\n",
       "    </tr>\n",
       "    <tr>\n",
       "      <th>106</th>\n",
       "      <td>jhon</td>\n",
       "      <td>smith</td>\n",
       "      <td>jhon@hyu.com</td>\n",
       "      <td>5678567856</td>\n",
       "      <td>5/24/2020</td>\n",
       "      <td>male</td>\n",
       "      <td>Tripura</td>\n",
       "      <td>yhntgb</td>\n",
       "      <td>789789</td>\n",
       "      <td>cvbdfgh</td>\n",
       "      <td>tgbyhn</td>\n",
       "      <td>2003</td>\n",
       "    </tr>\n",
       "    <tr>\n",
       "      <th>107</th>\n",
       "      <td>dsfjkllk</td>\n",
       "      <td>doe</td>\n",
       "      <td>asdfgh@sdfaf.com</td>\n",
       "      <td>5675675676</td>\n",
       "      <td>5/7/2020</td>\n",
       "      <td>female</td>\n",
       "      <td>Assam</td>\n",
       "      <td>uhuhu</td>\n",
       "      <td>789789</td>\n",
       "      <td>dfshakjh</td>\n",
       "      <td>sadjflk</td>\n",
       "      <td>2000</td>\n",
       "    </tr>\n",
       "    <tr>\n",
       "      <th>114</th>\n",
       "      <td>gghjki</td>\n",
       "      <td>hjkl</td>\n",
       "      <td>sadfjk@yuooo.df</td>\n",
       "      <td>7897897890</td>\n",
       "      <td>5/6/2020</td>\n",
       "      <td>female</td>\n",
       "      <td>Telangana</td>\n",
       "      <td>afdssa</td>\n",
       "      <td>789789</td>\n",
       "      <td>sajdhfhkjsa</td>\n",
       "      <td>asdjhfhkas</td>\n",
       "      <td>1952</td>\n",
       "    </tr>\n",
       "  </tbody>\n",
       "</table>\n",
       "</div>"
      ],
      "text/plain": [
       "        first_name  last_name               email       phone   birthday  \\\n",
       "reg_num                                                                    \n",
       "100        shubham   nautiyal   shuubam@gmail.com  9999999999  9/29/2011   \n",
       "101         qwerty    qwertyu  shubhaml@yahoo.com  1234512345  11/9/1982   \n",
       "102       bbbbbbbb    qwertyu  shubham@outlok.com  2222222222   5/6/2020   \n",
       "103         zxcvbn      mnbvc   zxcvbn@zxcvbn.com  4444444444  6/11/1999   \n",
       "105             my   nautiyal      shuubam@gm.com  9999999999  5/13/2020   \n",
       "106           jhon      smith        jhon@hyu.com  5678567856  5/24/2020   \n",
       "107       dsfjkllk        doe    asdfgh@sdfaf.com  5675675676   5/7/2020   \n",
       "114         gghjki       hjkl     sadfjk@yuooo.df  7897897890   5/6/2020   \n",
       "\n",
       "         gender      state    city   pincode     uni_name       field   year  \n",
       "reg_num                                                                       \n",
       "100        male        Goa   affad    123123       afdfds        asdf   1966  \n",
       "101      female  Rajashtan   dfghj    788099      fdghjkl      dgfhjk   2020  \n",
       "102      female    Tripura   dfghj    786899      fdghjkl      dgfhjk   2020  \n",
       "103        male      Bihar    qwer    333333       ujmyhn      ikmujn   1999  \n",
       "105      female     Odisha   affad    123123       afdfds        asdf   1966  \n",
       "106        male    Tripura  yhntgb    789789      cvbdfgh      tgbyhn   2003  \n",
       "107      female      Assam   uhuhu    789789     dfshakjh     sadjflk   2000  \n",
       "114      female  Telangana  afdssa    789789  sajdhfhkjsa  asdjhfhkas   1952  "
      ]
     },
     "execution_count": 152,
     "metadata": {},
     "output_type": "execute_result"
    }
   ],
   "source": [
    "a"
   ]
  },
  {
   "cell_type": "code",
   "execution_count": 160,
   "metadata": {
    "ExecuteTime": {
     "end_time": "2020-05-26T10:19:37.640505Z",
     "start_time": "2020-05-26T10:19:37.632523Z"
    }
   },
   "outputs": [
    {
     "data": {
      "text/plain": [
       "numpy.int64"
      ]
     },
     "execution_count": 160,
     "metadata": {},
     "output_type": "execute_result"
    }
   ],
   "source": [
    "type(a.index[4])"
   ]
  },
  {
   "cell_type": "code",
   "execution_count": 144,
   "metadata": {
    "ExecuteTime": {
     "end_time": "2020-05-26T09:41:34.213603Z",
     "start_time": "2020-05-26T09:41:34.207618Z"
    }
   },
   "outputs": [
    {
     "data": {
      "text/plain": [
       "4    1\n",
       "5    2\n",
       "6    3\n",
       "dtype: int64"
      ]
     },
     "execution_count": 144,
     "metadata": {},
     "output_type": "execute_result"
    }
   ],
   "source": [
    "pd.Series([1,2,3],[4,5,6])"
   ]
  },
  {
   "cell_type": "code",
   "execution_count": 3,
   "metadata": {
    "ExecuteTime": {
     "end_time": "2020-06-01T08:13:18.573676Z",
     "start_time": "2020-06-01T08:13:18.537747Z"
    }
   },
   "outputs": [
    {
     "data": {
      "text/html": [
       "<div>\n",
       "<style scoped>\n",
       "    .dataframe tbody tr th:only-of-type {\n",
       "        vertical-align: middle;\n",
       "    }\n",
       "\n",
       "    .dataframe tbody tr th {\n",
       "        vertical-align: top;\n",
       "    }\n",
       "\n",
       "    .dataframe thead th {\n",
       "        text-align: right;\n",
       "    }\n",
       "</style>\n",
       "<table border=\"1\" class=\"dataframe\">\n",
       "  <thead>\n",
       "    <tr style=\"text-align: right;\">\n",
       "      <th></th>\n",
       "      <th>first_name</th>\n",
       "      <th>last_name</th>\n",
       "      <th>email</th>\n",
       "      <th>phone</th>\n",
       "      <th>birthday</th>\n",
       "      <th>gender</th>\n",
       "      <th>state</th>\n",
       "      <th>city</th>\n",
       "      <th>pincode</th>\n",
       "      <th>uni_name</th>\n",
       "      <th>field</th>\n",
       "      <th>year</th>\n",
       "    </tr>\n",
       "    <tr>\n",
       "      <th>reg_num</th>\n",
       "      <th></th>\n",
       "      <th></th>\n",
       "      <th></th>\n",
       "      <th></th>\n",
       "      <th></th>\n",
       "      <th></th>\n",
       "      <th></th>\n",
       "      <th></th>\n",
       "      <th></th>\n",
       "      <th></th>\n",
       "      <th></th>\n",
       "      <th></th>\n",
       "    </tr>\n",
       "  </thead>\n",
       "  <tbody>\n",
       "    <tr>\n",
       "      <th>100</th>\n",
       "      <td>shubham</td>\n",
       "      <td>nautiyal</td>\n",
       "      <td>shuubam@gmail.com</td>\n",
       "      <td>1.000000e+10</td>\n",
       "      <td>9/29/2011</td>\n",
       "      <td>male</td>\n",
       "      <td>Goa</td>\n",
       "      <td>affad</td>\n",
       "      <td>123123</td>\n",
       "      <td>afdfds</td>\n",
       "      <td>asdf</td>\n",
       "      <td>1966</td>\n",
       "    </tr>\n",
       "    <tr>\n",
       "      <th>101</th>\n",
       "      <td>qwerty</td>\n",
       "      <td>qwertyu</td>\n",
       "      <td>shubhaml@yahoo.com</td>\n",
       "      <td>1.234512e+09</td>\n",
       "      <td>11/9/1982</td>\n",
       "      <td>female</td>\n",
       "      <td>Rajashtan</td>\n",
       "      <td>dfghj</td>\n",
       "      <td>788099</td>\n",
       "      <td>fdghjkl</td>\n",
       "      <td>dgfhjk</td>\n",
       "      <td>2020</td>\n",
       "    </tr>\n",
       "    <tr>\n",
       "      <th>102</th>\n",
       "      <td>bbbbbbbb</td>\n",
       "      <td>qwertyu</td>\n",
       "      <td>shubham@outlok.com</td>\n",
       "      <td>2.222222e+09</td>\n",
       "      <td>5/6/2020</td>\n",
       "      <td>female</td>\n",
       "      <td>Tripura</td>\n",
       "      <td>dfghj</td>\n",
       "      <td>786899</td>\n",
       "      <td>fdghjkl</td>\n",
       "      <td>dgfhjk</td>\n",
       "      <td>2020</td>\n",
       "    </tr>\n",
       "    <tr>\n",
       "      <th>103</th>\n",
       "      <td>zxcvbn</td>\n",
       "      <td>mnbvc</td>\n",
       "      <td>zxcvbn@zxcvbn.com</td>\n",
       "      <td>4.444444e+09</td>\n",
       "      <td>6/11/1999</td>\n",
       "      <td>male</td>\n",
       "      <td>Bihar</td>\n",
       "      <td>qwer</td>\n",
       "      <td>333333</td>\n",
       "      <td>ujmyhn</td>\n",
       "      <td>ikmujn</td>\n",
       "      <td>1999</td>\n",
       "    </tr>\n",
       "    <tr>\n",
       "      <th>105</th>\n",
       "      <td>my</td>\n",
       "      <td>nautiyal</td>\n",
       "      <td>shuubam@gum.com</td>\n",
       "      <td>1.000000e+10</td>\n",
       "      <td>2020-05-27</td>\n",
       "      <td>male</td>\n",
       "      <td>Chhattisgarh</td>\n",
       "      <td>affad</td>\n",
       "      <td>123123</td>\n",
       "      <td>afdfds</td>\n",
       "      <td>asdf</td>\n",
       "      <td>1966</td>\n",
       "    </tr>\n",
       "  </tbody>\n",
       "</table>\n",
       "</div>"
      ],
      "text/plain": [
       "        first_name  last_name               email         phone    birthday  \\\n",
       "reg_num                                                                       \n",
       "100        shubham   nautiyal   shuubam@gmail.com  1.000000e+10   9/29/2011   \n",
       "101         qwerty    qwertyu  shubhaml@yahoo.com  1.234512e+09   11/9/1982   \n",
       "102       bbbbbbbb    qwertyu  shubham@outlok.com  2.222222e+09    5/6/2020   \n",
       "103         zxcvbn      mnbvc   zxcvbn@zxcvbn.com  4.444444e+09   6/11/1999   \n",
       "105             my   nautiyal     shuubam@gum.com  1.000000e+10  2020-05-27   \n",
       "\n",
       "         gender         state    city   pincode  uni_name   field   year  \n",
       "reg_num                                                                   \n",
       "100        male           Goa   affad    123123    afdfds    asdf   1966  \n",
       "101      female     Rajashtan   dfghj    788099   fdghjkl  dgfhjk   2020  \n",
       "102      female       Tripura   dfghj    786899   fdghjkl  dgfhjk   2020  \n",
       "103        male         Bihar    qwer    333333    ujmyhn  ikmujn   1999  \n",
       "105        male  Chhattisgarh   affad    123123    afdfds    asdf   1966  "
      ]
     },
     "execution_count": 3,
     "metadata": {},
     "output_type": "execute_result"
    }
   ],
   "source": [
    "a = pd.read_csv(\"data.csv\", index_col=0)\n",
    "a.head()"
   ]
  },
  {
   "cell_type": "code",
   "execution_count": 9,
   "metadata": {
    "ExecuteTime": {
     "end_time": "2020-06-01T08:13:58.464800Z",
     "start_time": "2020-06-01T08:13:58.460813Z"
    }
   },
   "outputs": [
    {
     "data": {
      "text/plain": [
       "Int64Index([100, 101, 102, 103, 105, 106, 107, 114, 115, 116, 117, 118, 119,\n",
       "            120],\n",
       "           dtype='int64', name='reg_num')"
      ]
     },
     "execution_count": 9,
     "metadata": {},
     "output_type": "execute_result"
    }
   ],
   "source": [
    "a.index"
   ]
  },
  {
   "cell_type": "code",
   "execution_count": 14,
   "metadata": {
    "ExecuteTime": {
     "end_time": "2020-06-01T08:17:07.983365Z",
     "start_time": "2020-06-01T08:17:07.979374Z"
    }
   },
   "outputs": [],
   "source": [
    "a.drop(101, inplace = True)"
   ]
  },
  {
   "cell_type": "code",
   "execution_count": 17,
   "metadata": {
    "ExecuteTime": {
     "end_time": "2020-06-01T08:18:23.888317Z",
     "start_time": "2020-06-01T08:18:23.879338Z"
    }
   },
   "outputs": [],
   "source": [
    "a.to_csv(\"data.csv\")"
   ]
  },
  {
   "cell_type": "code",
   "execution_count": null,
   "metadata": {},
   "outputs": [],
   "source": []
  }
 ],
 "metadata": {
  "kernelspec": {
   "display_name": "Python 3",
   "language": "python",
   "name": "python3"
  },
  "language_info": {
   "codemirror_mode": {
    "name": "ipython",
    "version": 3
   },
   "file_extension": ".py",
   "mimetype": "text/x-python",
   "name": "python",
   "nbconvert_exporter": "python",
   "pygments_lexer": "ipython3",
   "version": "3.8.2"
  },
  "varInspector": {
   "cols": {
    "lenName": 16,
    "lenType": 16,
    "lenVar": 40
   },
   "kernels_config": {
    "python": {
     "delete_cmd_postfix": "",
     "delete_cmd_prefix": "del ",
     "library": "var_list.py",
     "varRefreshCmd": "print(var_dic_list())"
    },
    "r": {
     "delete_cmd_postfix": ") ",
     "delete_cmd_prefix": "rm(",
     "library": "var_list.r",
     "varRefreshCmd": "cat(var_dic_list()) "
    }
   },
   "types_to_exclude": [
    "module",
    "function",
    "builtin_function_or_method",
    "instance",
    "_Feature"
   ],
   "window_display": false
  }
 },
 "nbformat": 4,
 "nbformat_minor": 4
}

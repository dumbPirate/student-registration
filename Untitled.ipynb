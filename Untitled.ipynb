{
 "cells": [
  {
   "cell_type": "code",
   "execution_count": 1,
   "metadata": {
    "ExecuteTime": {
     "end_time": "2020-05-21T08:06:29.075993Z",
     "start_time": "2020-05-21T08:06:25.388519Z"
    }
   },
   "outputs": [],
   "source": [
    "import pandas as pd"
   ]
  },
  {
   "cell_type": "code",
   "execution_count": 7,
   "metadata": {
    "ExecuteTime": {
     "end_time": "2020-05-21T08:10:07.898593Z",
     "start_time": "2020-05-21T08:10:07.890651Z"
    }
   },
   "outputs": [],
   "source": [
    "a = pd.read_csv(\"data.csv\")"
   ]
  },
  {
   "cell_type": "code",
   "execution_count": 20,
   "metadata": {
    "ExecuteTime": {
     "end_time": "2020-05-21T09:39:36.708829Z",
     "start_time": "2020-05-21T09:39:36.676628Z"
    }
   },
   "outputs": [
    {
     "data": {
      "text/html": [
       "<div>\n",
       "<style scoped>\n",
       "    .dataframe tbody tr th:only-of-type {\n",
       "        vertical-align: middle;\n",
       "    }\n",
       "\n",
       "    .dataframe tbody tr th {\n",
       "        vertical-align: top;\n",
       "    }\n",
       "\n",
       "    .dataframe thead th {\n",
       "        text-align: right;\n",
       "    }\n",
       "</style>\n",
       "<table border=\"1\" class=\"dataframe\">\n",
       "  <thead>\n",
       "    <tr style=\"text-align: right;\">\n",
       "      <th></th>\n",
       "      <th>first_name</th>\n",
       "      <th>last_name</th>\n",
       "      <th>email</th>\n",
       "      <th>phone</th>\n",
       "      <th>birthday</th>\n",
       "      <th>gender</th>\n",
       "      <th>state</th>\n",
       "      <th>city</th>\n",
       "      <th>pincode</th>\n",
       "      <th>uni_name</th>\n",
       "      <th>field</th>\n",
       "      <th>year</th>\n",
       "    </tr>\n",
       "  </thead>\n",
       "  <tbody>\n",
       "    <tr>\n",
       "      <th>0</th>\n",
       "      <td>shubham</td>\n",
       "      <td>nautiyal</td>\n",
       "      <td>shuubam@gmail.com</td>\n",
       "      <td>1.000000e+10</td>\n",
       "      <td>7/13/1996</td>\n",
       "      <td>male</td>\n",
       "      <td>Goa</td>\n",
       "      <td>affad</td>\n",
       "      <td>123123.0</td>\n",
       "      <td>afdfds</td>\n",
       "      <td>asdf</td>\n",
       "      <td>1966.0</td>\n",
       "    </tr>\n",
       "    <tr>\n",
       "      <th>1</th>\n",
       "      <td>qwerty</td>\n",
       "      <td>qwertyu</td>\n",
       "      <td>shubham_nautiyal@yahoo.com</td>\n",
       "      <td>1.234512e+09</td>\n",
       "      <td>11/9/1982</td>\n",
       "      <td>female</td>\n",
       "      <td>Rajashtan</td>\n",
       "      <td>dfghj</td>\n",
       "      <td>788099.0</td>\n",
       "      <td>fdghjkl</td>\n",
       "      <td>dgfhjk</td>\n",
       "      <td>2020.0</td>\n",
       "    </tr>\n",
       "    <tr>\n",
       "      <th>2</th>\n",
       "      <td>qwerty</td>\n",
       "      <td>qwertyu</td>\n",
       "      <td>shubham_nautiyal@yahoo.com</td>\n",
       "      <td>5.678906e+09</td>\n",
       "      <td>12/8/1992</td>\n",
       "      <td>female</td>\n",
       "      <td>Sikkim</td>\n",
       "      <td>dfghj</td>\n",
       "      <td>786899.0</td>\n",
       "      <td>fdghjkl</td>\n",
       "      <td>dgfhjk</td>\n",
       "      <td>2020.0</td>\n",
       "    </tr>\n",
       "    <tr>\n",
       "      <th>3</th>\n",
       "      <td>asdfg</td>\n",
       "      <td>hjkl</td>\n",
       "      <td>psamazone7@gmail.com</td>\n",
       "      <td>1.234568e+09</td>\n",
       "      <td>12/12/2012</td>\n",
       "      <td>male</td>\n",
       "      <td>Uttarakhand</td>\n",
       "      <td>sdf  fs</td>\n",
       "      <td>456456.0</td>\n",
       "      <td>dasfhh</td>\n",
       "      <td>sdaf f</td>\n",
       "      <td>1999.0</td>\n",
       "    </tr>\n",
       "    <tr>\n",
       "      <th>4</th>\n",
       "      <td>tree</td>\n",
       "      <td>NaN</td>\n",
       "      <td>NaN</td>\n",
       "      <td>NaN</td>\n",
       "      <td>NaN</td>\n",
       "      <td>female</td>\n",
       "      <td>Daman_and_Diu</td>\n",
       "      <td>NaN</td>\n",
       "      <td>NaN</td>\n",
       "      <td>NaN</td>\n",
       "      <td>NaN</td>\n",
       "      <td>NaN</td>\n",
       "    </tr>\n",
       "  </tbody>\n",
       "</table>\n",
       "</div>"
      ],
      "text/plain": [
       "  first_name  last_name                       email         phone    birthday  \\\n",
       "0    shubham   nautiyal           shuubam@gmail.com  1.000000e+10   7/13/1996   \n",
       "1     qwerty    qwertyu  shubham_nautiyal@yahoo.com  1.234512e+09   11/9/1982   \n",
       "2     qwerty    qwertyu  shubham_nautiyal@yahoo.com  5.678906e+09   12/8/1992   \n",
       "3      asdfg       hjkl        psamazone7@gmail.com  1.234568e+09  12/12/2012   \n",
       "4       tree        NaN                         NaN           NaN         NaN   \n",
       "\n",
       "   gender          state      city   pincode  uni_name    field    year  \n",
       "0    male            Goa     affad  123123.0    afdfds     asdf  1966.0  \n",
       "1  female      Rajashtan     dfghj  788099.0   fdghjkl   dgfhjk  2020.0  \n",
       "2  female         Sikkim     dfghj  786899.0   fdghjkl   dgfhjk  2020.0  \n",
       "3    male    Uttarakhand  sdf  fs   456456.0   dasfhh   sdaf f   1999.0  \n",
       "4  female  Daman_and_Diu       NaN       NaN       NaN      NaN     NaN  "
      ]
     },
     "execution_count": 20,
     "metadata": {},
     "output_type": "execute_result"
    }
   ],
   "source": [
    "a"
   ]
  },
  {
   "cell_type": "code",
   "execution_count": 40,
   "metadata": {
    "ExecuteTime": {
     "end_time": "2020-05-21T09:53:01.407196Z",
     "start_time": "2020-05-21T09:53:01.403098Z"
    }
   },
   "outputs": [],
   "source": [
    "b = list(a)"
   ]
  },
  {
   "cell_type": "code",
   "execution_count": 41,
   "metadata": {
    "ExecuteTime": {
     "end_time": "2020-05-21T09:53:05.293134Z",
     "start_time": "2020-05-21T09:53:05.285570Z"
    }
   },
   "outputs": [],
   "source": [
    "c = a[a[\"first_name\"]==\"shubham\"].values.tolist()[0]"
   ]
  },
  {
   "cell_type": "code",
   "execution_count": 42,
   "metadata": {
    "ExecuteTime": {
     "end_time": "2020-05-21T09:53:11.693891Z",
     "start_time": "2020-05-21T09:53:11.689692Z"
    }
   },
   "outputs": [],
   "source": [
    "dictionary = dict(zip(b, c))"
   ]
  },
  {
   "cell_type": "code",
   "execution_count": 49,
   "metadata": {
    "ExecuteTime": {
     "end_time": "2020-05-21T10:03:51.669532Z",
     "start_time": "2020-05-21T10:03:51.657698Z"
    }
   },
   "outputs": [
    {
     "data": {
      "text/plain": [
       "{'first_name': 'shubham',\n",
       " ' last_name': ' nautiyal',\n",
       " ' email': ' shuubam@gmail.com',\n",
       " ' phone': 9999999999.0,\n",
       " ' birthday': '7/13/1996',\n",
       " ' gender': ' male',\n",
       " ' state': ' Goa',\n",
       " ' city': ' affad',\n",
       " ' pincode': 123123.0,\n",
       " ' uni_name': ' afdfds',\n",
       " ' field': ' asdf',\n",
       " ' year': 1966.0}"
      ]
     },
     "execution_count": 49,
     "metadata": {},
     "output_type": "execute_result"
    }
   ],
   "source": [
    "dictionary"
   ]
  },
  {
   "cell_type": "code",
   "execution_count": null,
   "metadata": {},
   "outputs": [],
   "source": []
  }
 ],
 "metadata": {
  "kernelspec": {
   "display_name": "Python 3",
   "language": "python",
   "name": "python3"
  },
  "language_info": {
   "codemirror_mode": {
    "name": "ipython",
    "version": 3
   },
   "file_extension": ".py",
   "mimetype": "text/x-python",
   "name": "python",
   "nbconvert_exporter": "python",
   "pygments_lexer": "ipython3",
   "version": "3.8.2"
  },
  "varInspector": {
   "cols": {
    "lenName": 16,
    "lenType": 16,
    "lenVar": 40
   },
   "kernels_config": {
    "python": {
     "delete_cmd_postfix": "",
     "delete_cmd_prefix": "del ",
     "library": "var_list.py",
     "varRefreshCmd": "print(var_dic_list())"
    },
    "r": {
     "delete_cmd_postfix": ") ",
     "delete_cmd_prefix": "rm(",
     "library": "var_list.r",
     "varRefreshCmd": "cat(var_dic_list()) "
    }
   },
   "types_to_exclude": [
    "module",
    "function",
    "builtin_function_or_method",
    "instance",
    "_Feature"
   ],
   "window_display": false
  }
 },
 "nbformat": 4,
 "nbformat_minor": 4
}
